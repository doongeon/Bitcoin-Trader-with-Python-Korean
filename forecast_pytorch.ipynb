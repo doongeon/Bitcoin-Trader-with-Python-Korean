{
 "cells": [
  {
   "cell_type": "code",
   "execution_count": 210,
   "id": "3c3679df",
   "metadata": {},
   "outputs": [],
   "source": [
    "import request_chart as chart"
   ]
  },
  {
   "cell_type": "code",
   "execution_count": 209,
   "id": "eb020c58",
   "metadata": {},
   "outputs": [],
   "source": [
    "import copy\n",
    "from pathlib import Path\n",
    "import warnings\n",
    "\n",
    "import numpy as np\n",
    "import pandas as pd\n",
    "import pytorch_lightning as pl\n",
    "from pytorch_lightning.callbacks import EarlyStopping, LearningRateMonitor\n",
    "from pytorch_lightning.loggers import TensorBoardLogger\n",
    "import torch\n",
    "\n",
    "from pytorch_forecasting import Baseline, TemporalFusionTransformer, TimeSeriesDataSet\n",
    "from pytorch_forecasting.data import GroupNormalizer\n",
    "from pytorch_forecasting.metrics import SMAPE, PoissonLoss, QuantileLoss\n",
    "from pytorch_forecasting.models.temporal_fusion_transformer.tuning import optimize_hyperparameters\n",
    "\n",
    "warnings.filterwarnings(\"ignore\")  "
   ]
  },
  {
   "cell_type": "code",
   "execution_count": 190,
   "id": "a34d4649",
   "metadata": {},
   "outputs": [],
   "source": [
    "candles = chart.candle_min_30(200)\n",
    "\n",
    "candles = pd.DataFrame(candles)\n",
    "\n",
    "candles = candles[::-1]\n",
    "\n",
    "candles = candles.reset_index(drop=True)\n",
    "\n",
    "data = candles"
   ]
  },
  {
   "cell_type": "code",
   "execution_count": 191,
   "id": "a147545d",
   "metadata": {
    "scrolled": false
   },
   "outputs": [
    {
     "data": {
      "text/html": [
       "<div>\n",
       "<style scoped>\n",
       "    .dataframe tbody tr th:only-of-type {\n",
       "        vertical-align: middle;\n",
       "    }\n",
       "\n",
       "    .dataframe tbody tr th {\n",
       "        vertical-align: top;\n",
       "    }\n",
       "\n",
       "    .dataframe thead th {\n",
       "        text-align: right;\n",
       "    }\n",
       "</style>\n",
       "<table border=\"1\" class=\"dataframe\">\n",
       "  <thead>\n",
       "    <tr style=\"text-align: right;\">\n",
       "      <th></th>\n",
       "      <th>market</th>\n",
       "      <th>candle_date_time_utc</th>\n",
       "      <th>candle_date_time_kst</th>\n",
       "      <th>opening_price</th>\n",
       "      <th>high_price</th>\n",
       "      <th>low_price</th>\n",
       "      <th>trade_price</th>\n",
       "      <th>timestamp</th>\n",
       "      <th>candle_acc_trade_price</th>\n",
       "      <th>candle_acc_trade_volume</th>\n",
       "      <th>unit</th>\n",
       "    </tr>\n",
       "  </thead>\n",
       "  <tbody>\n",
       "    <tr>\n",
       "      <th>0</th>\n",
       "      <td>KRW-BTC</td>\n",
       "      <td>2023-02-28T03:30:00</td>\n",
       "      <td>2023-02-28T12:30:00</td>\n",
       "      <td>31211000.0</td>\n",
       "      <td>31228000.0</td>\n",
       "      <td>31153000.0</td>\n",
       "      <td>31160000.0</td>\n",
       "      <td>1677556798022</td>\n",
       "      <td>2.277639e+09</td>\n",
       "      <td>73.023102</td>\n",
       "      <td>30</td>\n",
       "    </tr>\n",
       "    <tr>\n",
       "      <th>1</th>\n",
       "      <td>KRW-BTC</td>\n",
       "      <td>2023-02-28T04:00:00</td>\n",
       "      <td>2023-02-28T13:00:00</td>\n",
       "      <td>31160000.0</td>\n",
       "      <td>31186000.0</td>\n",
       "      <td>31121000.0</td>\n",
       "      <td>31156000.0</td>\n",
       "      <td>1677558598867</td>\n",
       "      <td>3.072423e+09</td>\n",
       "      <td>98.619746</td>\n",
       "      <td>30</td>\n",
       "    </tr>\n",
       "    <tr>\n",
       "      <th>2</th>\n",
       "      <td>KRW-BTC</td>\n",
       "      <td>2023-02-28T04:30:00</td>\n",
       "      <td>2023-02-28T13:30:00</td>\n",
       "      <td>31156000.0</td>\n",
       "      <td>31164000.0</td>\n",
       "      <td>31100000.0</td>\n",
       "      <td>31116000.0</td>\n",
       "      <td>1677560399144</td>\n",
       "      <td>2.996111e+09</td>\n",
       "      <td>96.256850</td>\n",
       "      <td>30</td>\n",
       "    </tr>\n",
       "    <tr>\n",
       "      <th>3</th>\n",
       "      <td>KRW-BTC</td>\n",
       "      <td>2023-02-28T05:00:00</td>\n",
       "      <td>2023-02-28T14:00:00</td>\n",
       "      <td>31137000.0</td>\n",
       "      <td>31216000.0</td>\n",
       "      <td>31115000.0</td>\n",
       "      <td>31155000.0</td>\n",
       "      <td>1677562198144</td>\n",
       "      <td>3.082101e+09</td>\n",
       "      <td>98.930499</td>\n",
       "      <td>30</td>\n",
       "    </tr>\n",
       "    <tr>\n",
       "      <th>4</th>\n",
       "      <td>KRW-BTC</td>\n",
       "      <td>2023-02-28T05:30:00</td>\n",
       "      <td>2023-02-28T14:30:00</td>\n",
       "      <td>31155000.0</td>\n",
       "      <td>31180000.0</td>\n",
       "      <td>31107000.0</td>\n",
       "      <td>31118000.0</td>\n",
       "      <td>1677563998862</td>\n",
       "      <td>1.971134e+09</td>\n",
       "      <td>63.294749</td>\n",
       "      <td>30</td>\n",
       "    </tr>\n",
       "    <tr>\n",
       "      <th>...</th>\n",
       "      <td>...</td>\n",
       "      <td>...</td>\n",
       "      <td>...</td>\n",
       "      <td>...</td>\n",
       "      <td>...</td>\n",
       "      <td>...</td>\n",
       "      <td>...</td>\n",
       "      <td>...</td>\n",
       "      <td>...</td>\n",
       "      <td>...</td>\n",
       "      <td>...</td>\n",
       "    </tr>\n",
       "    <tr>\n",
       "      <th>195</th>\n",
       "      <td>KRW-BTC</td>\n",
       "      <td>2023-03-04T05:00:00</td>\n",
       "      <td>2023-03-04T14:00:00</td>\n",
       "      <td>29786000.0</td>\n",
       "      <td>29805000.0</td>\n",
       "      <td>29764000.0</td>\n",
       "      <td>29781000.0</td>\n",
       "      <td>1677907799220</td>\n",
       "      <td>1.142428e+09</td>\n",
       "      <td>38.349671</td>\n",
       "      <td>30</td>\n",
       "    </tr>\n",
       "    <tr>\n",
       "      <th>196</th>\n",
       "      <td>KRW-BTC</td>\n",
       "      <td>2023-03-04T05:30:00</td>\n",
       "      <td>2023-03-04T14:30:00</td>\n",
       "      <td>29781000.0</td>\n",
       "      <td>29803000.0</td>\n",
       "      <td>29701000.0</td>\n",
       "      <td>29788000.0</td>\n",
       "      <td>1677909599909</td>\n",
       "      <td>1.832962e+09</td>\n",
       "      <td>61.555894</td>\n",
       "      <td>30</td>\n",
       "    </tr>\n",
       "    <tr>\n",
       "      <th>197</th>\n",
       "      <td>KRW-BTC</td>\n",
       "      <td>2023-03-04T06:00:00</td>\n",
       "      <td>2023-03-04T15:00:00</td>\n",
       "      <td>29788000.0</td>\n",
       "      <td>29861000.0</td>\n",
       "      <td>29786000.0</td>\n",
       "      <td>29852000.0</td>\n",
       "      <td>1677911398814</td>\n",
       "      <td>2.446676e+09</td>\n",
       "      <td>82.055911</td>\n",
       "      <td>30</td>\n",
       "    </tr>\n",
       "    <tr>\n",
       "      <th>198</th>\n",
       "      <td>KRW-BTC</td>\n",
       "      <td>2023-03-04T06:30:00</td>\n",
       "      <td>2023-03-04T15:30:00</td>\n",
       "      <td>29852000.0</td>\n",
       "      <td>29855000.0</td>\n",
       "      <td>29786000.0</td>\n",
       "      <td>29799000.0</td>\n",
       "      <td>1677913194377</td>\n",
       "      <td>1.795355e+09</td>\n",
       "      <td>60.209814</td>\n",
       "      <td>30</td>\n",
       "    </tr>\n",
       "    <tr>\n",
       "      <th>199</th>\n",
       "      <td>KRW-BTC</td>\n",
       "      <td>2023-03-04T07:00:00</td>\n",
       "      <td>2023-03-04T16:00:00</td>\n",
       "      <td>29796000.0</td>\n",
       "      <td>29799000.0</td>\n",
       "      <td>29786000.0</td>\n",
       "      <td>29793000.0</td>\n",
       "      <td>1677913706210</td>\n",
       "      <td>3.009543e+08</td>\n",
       "      <td>10.102120</td>\n",
       "      <td>30</td>\n",
       "    </tr>\n",
       "  </tbody>\n",
       "</table>\n",
       "<p>200 rows × 11 columns</p>\n",
       "</div>"
      ],
      "text/plain": [
       "      market candle_date_time_utc candle_date_time_kst  opening_price  \\\n",
       "0    KRW-BTC  2023-02-28T03:30:00  2023-02-28T12:30:00     31211000.0   \n",
       "1    KRW-BTC  2023-02-28T04:00:00  2023-02-28T13:00:00     31160000.0   \n",
       "2    KRW-BTC  2023-02-28T04:30:00  2023-02-28T13:30:00     31156000.0   \n",
       "3    KRW-BTC  2023-02-28T05:00:00  2023-02-28T14:00:00     31137000.0   \n",
       "4    KRW-BTC  2023-02-28T05:30:00  2023-02-28T14:30:00     31155000.0   \n",
       "..       ...                  ...                  ...            ...   \n",
       "195  KRW-BTC  2023-03-04T05:00:00  2023-03-04T14:00:00     29786000.0   \n",
       "196  KRW-BTC  2023-03-04T05:30:00  2023-03-04T14:30:00     29781000.0   \n",
       "197  KRW-BTC  2023-03-04T06:00:00  2023-03-04T15:00:00     29788000.0   \n",
       "198  KRW-BTC  2023-03-04T06:30:00  2023-03-04T15:30:00     29852000.0   \n",
       "199  KRW-BTC  2023-03-04T07:00:00  2023-03-04T16:00:00     29796000.0   \n",
       "\n",
       "     high_price   low_price  trade_price      timestamp  \\\n",
       "0    31228000.0  31153000.0   31160000.0  1677556798022   \n",
       "1    31186000.0  31121000.0   31156000.0  1677558598867   \n",
       "2    31164000.0  31100000.0   31116000.0  1677560399144   \n",
       "3    31216000.0  31115000.0   31155000.0  1677562198144   \n",
       "4    31180000.0  31107000.0   31118000.0  1677563998862   \n",
       "..          ...         ...          ...            ...   \n",
       "195  29805000.0  29764000.0   29781000.0  1677907799220   \n",
       "196  29803000.0  29701000.0   29788000.0  1677909599909   \n",
       "197  29861000.0  29786000.0   29852000.0  1677911398814   \n",
       "198  29855000.0  29786000.0   29799000.0  1677913194377   \n",
       "199  29799000.0  29786000.0   29793000.0  1677913706210   \n",
       "\n",
       "     candle_acc_trade_price  candle_acc_trade_volume  unit  \n",
       "0              2.277639e+09                73.023102    30  \n",
       "1              3.072423e+09                98.619746    30  \n",
       "2              2.996111e+09                96.256850    30  \n",
       "3              3.082101e+09                98.930499    30  \n",
       "4              1.971134e+09                63.294749    30  \n",
       "..                      ...                      ...   ...  \n",
       "195            1.142428e+09                38.349671    30  \n",
       "196            1.832962e+09                61.555894    30  \n",
       "197            2.446676e+09                82.055911    30  \n",
       "198            1.795355e+09                60.209814    30  \n",
       "199            3.009543e+08                10.102120    30  \n",
       "\n",
       "[200 rows x 11 columns]"
      ]
     },
     "execution_count": 191,
     "metadata": {},
     "output_type": "execute_result"
    }
   ],
   "source": [
    "data"
   ]
  },
  {
   "cell_type": "code",
   "execution_count": 192,
   "id": "b3ca7747",
   "metadata": {},
   "outputs": [],
   "source": [
    "data['candle_date_time_utc'] = pd.to_datetime(data['candle_date_time_utc'])"
   ]
  },
  {
   "cell_type": "code",
   "execution_count": 193,
   "id": "dab19502",
   "metadata": {},
   "outputs": [],
   "source": [
    "# 30분을 1으로 변환\n",
    "\n",
    "data['time_idx'] = (\n",
    "    data['candle_date_time_utc'].dt.year * 17520 +\n",
    "    data['candle_date_time_utc'].dt.month * 1440 +\n",
    "    data['candle_date_time_utc'].dt.day * 48 +\n",
    "    data['candle_date_time_utc'].dt.hour / 0.5 +\n",
    "    data['candle_date_time_utc'].dt.minute / 30\n",
    ")\n",
    "\n",
    "data['time_idx'] -= data[\"time_idx\"].min()\n",
    "\n",
    "data['time_idx'] = data['time_idx'].astype(int)"
   ]
  },
  {
   "cell_type": "code",
   "execution_count": 194,
   "id": "999f545d",
   "metadata": {},
   "outputs": [],
   "source": [
    "# # add additional features\n",
    "# data[\"month\"] = data.date.dt.month.astype(str).astype(\"category\")  # categories have be strings\n",
    "# data[\"log_volume\"] = np.log(data.volume + 1e-8)\n",
    "# data[\"avg_volume_by_sku\"] = data.groupby([\"time_idx\", \"sku\"], observed=True).volume.transform(\"mean\")\n",
    "# data[\"avg_volume_by_agency\"] = data.groupby([\"time_idx\", \"agency\"], observed=True).volume.transform(\"mean\")\n",
    "\n",
    "# # we want to encode special days as one variable and thus need to first reverse one-hot encoding\n",
    "# special_days = [\n",
    "#     \"easter_day\",\n",
    "#     \"good_friday\",\n",
    "#     \"new_year\",\n",
    "#     \"christmas\",\n",
    "#     \"labor_day\",\n",
    "#     \"independence_day\",\n",
    "#     \"revolution_day_memorial\",\n",
    "#     \"regional_games\",\n",
    "#     \"fifa_u_17_world_cup\",\n",
    "#     \"football_gold_cup\",\n",
    "#     \"beer_capital\",\n",
    "#     \"music_fest\",\n",
    "# ]\n",
    "# data[special_days] = data[special_days].apply(lambda x: x.map({0: \"-\", 1: x.name})).astype(\"category\")\n",
    "# data.sample(10, random_state=521)"
   ]
  },
  {
   "cell_type": "code",
   "execution_count": 195,
   "id": "41d8a5e5",
   "metadata": {},
   "outputs": [
    {
     "data": {
      "text/html": [
       "<div>\n",
       "<style scoped>\n",
       "    .dataframe tbody tr th:only-of-type {\n",
       "        vertical-align: middle;\n",
       "    }\n",
       "\n",
       "    .dataframe tbody tr th {\n",
       "        vertical-align: top;\n",
       "    }\n",
       "\n",
       "    .dataframe thead th {\n",
       "        text-align: right;\n",
       "    }\n",
       "</style>\n",
       "<table border=\"1\" class=\"dataframe\">\n",
       "  <thead>\n",
       "    <tr style=\"text-align: right;\">\n",
       "      <th></th>\n",
       "      <th>market</th>\n",
       "      <th>candle_date_time_utc</th>\n",
       "      <th>candle_date_time_kst</th>\n",
       "      <th>opening_price</th>\n",
       "      <th>high_price</th>\n",
       "      <th>low_price</th>\n",
       "      <th>trade_price</th>\n",
       "      <th>timestamp</th>\n",
       "      <th>candle_acc_trade_price</th>\n",
       "      <th>candle_acc_trade_volume</th>\n",
       "      <th>unit</th>\n",
       "      <th>time_idx</th>\n",
       "    </tr>\n",
       "  </thead>\n",
       "  <tbody>\n",
       "    <tr>\n",
       "      <th>0</th>\n",
       "      <td>KRW-BTC</td>\n",
       "      <td>2023-02-28 03:30:00</td>\n",
       "      <td>2023-02-28T12:30:00</td>\n",
       "      <td>31211000.0</td>\n",
       "      <td>31228000.0</td>\n",
       "      <td>31153000.0</td>\n",
       "      <td>31160000.0</td>\n",
       "      <td>1677556798022</td>\n",
       "      <td>2.277639e+09</td>\n",
       "      <td>73.023102</td>\n",
       "      <td>30</td>\n",
       "      <td>0</td>\n",
       "    </tr>\n",
       "    <tr>\n",
       "      <th>1</th>\n",
       "      <td>KRW-BTC</td>\n",
       "      <td>2023-02-28 04:00:00</td>\n",
       "      <td>2023-02-28T13:00:00</td>\n",
       "      <td>31160000.0</td>\n",
       "      <td>31186000.0</td>\n",
       "      <td>31121000.0</td>\n",
       "      <td>31156000.0</td>\n",
       "      <td>1677558598867</td>\n",
       "      <td>3.072423e+09</td>\n",
       "      <td>98.619746</td>\n",
       "      <td>30</td>\n",
       "      <td>1</td>\n",
       "    </tr>\n",
       "    <tr>\n",
       "      <th>2</th>\n",
       "      <td>KRW-BTC</td>\n",
       "      <td>2023-02-28 04:30:00</td>\n",
       "      <td>2023-02-28T13:30:00</td>\n",
       "      <td>31156000.0</td>\n",
       "      <td>31164000.0</td>\n",
       "      <td>31100000.0</td>\n",
       "      <td>31116000.0</td>\n",
       "      <td>1677560399144</td>\n",
       "      <td>2.996111e+09</td>\n",
       "      <td>96.256850</td>\n",
       "      <td>30</td>\n",
       "      <td>2</td>\n",
       "    </tr>\n",
       "    <tr>\n",
       "      <th>3</th>\n",
       "      <td>KRW-BTC</td>\n",
       "      <td>2023-02-28 05:00:00</td>\n",
       "      <td>2023-02-28T14:00:00</td>\n",
       "      <td>31137000.0</td>\n",
       "      <td>31216000.0</td>\n",
       "      <td>31115000.0</td>\n",
       "      <td>31155000.0</td>\n",
       "      <td>1677562198144</td>\n",
       "      <td>3.082101e+09</td>\n",
       "      <td>98.930499</td>\n",
       "      <td>30</td>\n",
       "      <td>3</td>\n",
       "    </tr>\n",
       "    <tr>\n",
       "      <th>4</th>\n",
       "      <td>KRW-BTC</td>\n",
       "      <td>2023-02-28 05:30:00</td>\n",
       "      <td>2023-02-28T14:30:00</td>\n",
       "      <td>31155000.0</td>\n",
       "      <td>31180000.0</td>\n",
       "      <td>31107000.0</td>\n",
       "      <td>31118000.0</td>\n",
       "      <td>1677563998862</td>\n",
       "      <td>1.971134e+09</td>\n",
       "      <td>63.294749</td>\n",
       "      <td>30</td>\n",
       "      <td>4</td>\n",
       "    </tr>\n",
       "    <tr>\n",
       "      <th>...</th>\n",
       "      <td>...</td>\n",
       "      <td>...</td>\n",
       "      <td>...</td>\n",
       "      <td>...</td>\n",
       "      <td>...</td>\n",
       "      <td>...</td>\n",
       "      <td>...</td>\n",
       "      <td>...</td>\n",
       "      <td>...</td>\n",
       "      <td>...</td>\n",
       "      <td>...</td>\n",
       "      <td>...</td>\n",
       "    </tr>\n",
       "    <tr>\n",
       "      <th>195</th>\n",
       "      <td>KRW-BTC</td>\n",
       "      <td>2023-03-04 05:00:00</td>\n",
       "      <td>2023-03-04T14:00:00</td>\n",
       "      <td>29786000.0</td>\n",
       "      <td>29805000.0</td>\n",
       "      <td>29764000.0</td>\n",
       "      <td>29781000.0</td>\n",
       "      <td>1677907799220</td>\n",
       "      <td>1.142428e+09</td>\n",
       "      <td>38.349671</td>\n",
       "      <td>30</td>\n",
       "      <td>291</td>\n",
       "    </tr>\n",
       "    <tr>\n",
       "      <th>196</th>\n",
       "      <td>KRW-BTC</td>\n",
       "      <td>2023-03-04 05:30:00</td>\n",
       "      <td>2023-03-04T14:30:00</td>\n",
       "      <td>29781000.0</td>\n",
       "      <td>29803000.0</td>\n",
       "      <td>29701000.0</td>\n",
       "      <td>29788000.0</td>\n",
       "      <td>1677909599909</td>\n",
       "      <td>1.832962e+09</td>\n",
       "      <td>61.555894</td>\n",
       "      <td>30</td>\n",
       "      <td>292</td>\n",
       "    </tr>\n",
       "    <tr>\n",
       "      <th>197</th>\n",
       "      <td>KRW-BTC</td>\n",
       "      <td>2023-03-04 06:00:00</td>\n",
       "      <td>2023-03-04T15:00:00</td>\n",
       "      <td>29788000.0</td>\n",
       "      <td>29861000.0</td>\n",
       "      <td>29786000.0</td>\n",
       "      <td>29852000.0</td>\n",
       "      <td>1677911398814</td>\n",
       "      <td>2.446676e+09</td>\n",
       "      <td>82.055911</td>\n",
       "      <td>30</td>\n",
       "      <td>293</td>\n",
       "    </tr>\n",
       "    <tr>\n",
       "      <th>198</th>\n",
       "      <td>KRW-BTC</td>\n",
       "      <td>2023-03-04 06:30:00</td>\n",
       "      <td>2023-03-04T15:30:00</td>\n",
       "      <td>29852000.0</td>\n",
       "      <td>29855000.0</td>\n",
       "      <td>29786000.0</td>\n",
       "      <td>29799000.0</td>\n",
       "      <td>1677913194377</td>\n",
       "      <td>1.795355e+09</td>\n",
       "      <td>60.209814</td>\n",
       "      <td>30</td>\n",
       "      <td>294</td>\n",
       "    </tr>\n",
       "    <tr>\n",
       "      <th>199</th>\n",
       "      <td>KRW-BTC</td>\n",
       "      <td>2023-03-04 07:00:00</td>\n",
       "      <td>2023-03-04T16:00:00</td>\n",
       "      <td>29796000.0</td>\n",
       "      <td>29799000.0</td>\n",
       "      <td>29786000.0</td>\n",
       "      <td>29793000.0</td>\n",
       "      <td>1677913706210</td>\n",
       "      <td>3.009543e+08</td>\n",
       "      <td>10.102120</td>\n",
       "      <td>30</td>\n",
       "      <td>295</td>\n",
       "    </tr>\n",
       "  </tbody>\n",
       "</table>\n",
       "<p>200 rows × 12 columns</p>\n",
       "</div>"
      ],
      "text/plain": [
       "      market candle_date_time_utc candle_date_time_kst  opening_price  \\\n",
       "0    KRW-BTC  2023-02-28 03:30:00  2023-02-28T12:30:00     31211000.0   \n",
       "1    KRW-BTC  2023-02-28 04:00:00  2023-02-28T13:00:00     31160000.0   \n",
       "2    KRW-BTC  2023-02-28 04:30:00  2023-02-28T13:30:00     31156000.0   \n",
       "3    KRW-BTC  2023-02-28 05:00:00  2023-02-28T14:00:00     31137000.0   \n",
       "4    KRW-BTC  2023-02-28 05:30:00  2023-02-28T14:30:00     31155000.0   \n",
       "..       ...                  ...                  ...            ...   \n",
       "195  KRW-BTC  2023-03-04 05:00:00  2023-03-04T14:00:00     29786000.0   \n",
       "196  KRW-BTC  2023-03-04 05:30:00  2023-03-04T14:30:00     29781000.0   \n",
       "197  KRW-BTC  2023-03-04 06:00:00  2023-03-04T15:00:00     29788000.0   \n",
       "198  KRW-BTC  2023-03-04 06:30:00  2023-03-04T15:30:00     29852000.0   \n",
       "199  KRW-BTC  2023-03-04 07:00:00  2023-03-04T16:00:00     29796000.0   \n",
       "\n",
       "     high_price   low_price  trade_price      timestamp  \\\n",
       "0    31228000.0  31153000.0   31160000.0  1677556798022   \n",
       "1    31186000.0  31121000.0   31156000.0  1677558598867   \n",
       "2    31164000.0  31100000.0   31116000.0  1677560399144   \n",
       "3    31216000.0  31115000.0   31155000.0  1677562198144   \n",
       "4    31180000.0  31107000.0   31118000.0  1677563998862   \n",
       "..          ...         ...          ...            ...   \n",
       "195  29805000.0  29764000.0   29781000.0  1677907799220   \n",
       "196  29803000.0  29701000.0   29788000.0  1677909599909   \n",
       "197  29861000.0  29786000.0   29852000.0  1677911398814   \n",
       "198  29855000.0  29786000.0   29799000.0  1677913194377   \n",
       "199  29799000.0  29786000.0   29793000.0  1677913706210   \n",
       "\n",
       "     candle_acc_trade_price  candle_acc_trade_volume  unit  time_idx  \n",
       "0              2.277639e+09                73.023102    30         0  \n",
       "1              3.072423e+09                98.619746    30         1  \n",
       "2              2.996111e+09                96.256850    30         2  \n",
       "3              3.082101e+09                98.930499    30         3  \n",
       "4              1.971134e+09                63.294749    30         4  \n",
       "..                      ...                      ...   ...       ...  \n",
       "195            1.142428e+09                38.349671    30       291  \n",
       "196            1.832962e+09                61.555894    30       292  \n",
       "197            2.446676e+09                82.055911    30       293  \n",
       "198            1.795355e+09                60.209814    30       294  \n",
       "199            3.009543e+08                10.102120    30       295  \n",
       "\n",
       "[200 rows x 12 columns]"
      ]
     },
     "execution_count": 195,
     "metadata": {},
     "output_type": "execute_result"
    }
   ],
   "source": [
    "data"
   ]
  },
  {
   "cell_type": "code",
   "execution_count": 196,
   "id": "df0478ff",
   "metadata": {},
   "outputs": [],
   "source": [
    "max_prediction_length = 6\n",
    "max_encoder_length = 50\n",
    "training_cutoff = data[\"time_idx\"].max() - max_prediction_length\n",
    "\n",
    "training = TimeSeriesDataSet(\n",
    "    data[lambda x: x.time_idx <= training_cutoff],\n",
    "    time_idx=\"time_idx\",\n",
    "    target=\"trade_price\",\n",
    "    group_ids=['market'],\n",
    "    min_encoder_length=max_encoder_length // 2,  # keep encoder length long (as it is in the validation set)\n",
    "    max_encoder_length=max_encoder_length,\n",
    "    min_prediction_length=1,\n",
    "    max_prediction_length=max_prediction_length,\n",
    "#     static_categoricals=[\"agency\", \"sku\"],\n",
    "#     static_reals=[\"avg_population_2017\", \"avg_yearly_household_income_2017\"],\n",
    "#     time_varying_known_categoricals=[\"special_days\", \"month\"],\n",
    "#     variable_groups={\"special_days\": special_days},  # group of categorical variables can be treated as one variable\n",
    "#     time_varying_known_reals=[\"time_idx\", \"price_regular\", \"discount_in_percent\"],\n",
    "    time_varying_unknown_categoricals=[],\n",
    "    time_varying_unknown_reals=[],\n",
    "#     target_normalizer=GroupNormalizer(\n",
    "#         groups=[\"agency\", \"sku\"], transformation=\"softplus\"\n",
    "#     ),  # use softplus and normalize by group\n",
    "    add_relative_time_idx=True,\n",
    "    add_target_scales=True,\n",
    "    add_encoder_length=True,\n",
    "    allow_missing_timesteps=True\n",
    ")"
   ]
  },
  {
   "cell_type": "code",
   "execution_count": 197,
   "id": "791bde5a",
   "metadata": {},
   "outputs": [],
   "source": [
    "# create validation set (predict=True) which means to predict the last max_prediction_length points in time\n",
    "# for each series\n",
    "validation = TimeSeriesDataSet.from_dataset(training, data, predict=True, stop_randomization=True)"
   ]
  },
  {
   "cell_type": "code",
   "execution_count": 198,
   "id": "5eed5890",
   "metadata": {},
   "outputs": [],
   "source": [
    "# create dataloaders for model\n",
    "batch_size = 128  # set this between 32 to 128\n",
    "train_dataloader = training.to_dataloader(train=True, batch_size=batch_size, num_workers=0)\n",
    "val_dataloader = validation.to_dataloader(train=False, batch_size=batch_size * 10, num_workers=0)"
   ]
  },
  {
   "cell_type": "code",
   "execution_count": 199,
   "id": "2fbeca4e",
   "metadata": {},
   "outputs": [
    {
     "data": {
      "text/plain": [
       "24833.333984375"
      ]
     },
     "execution_count": 199,
     "metadata": {},
     "output_type": "execute_result"
    }
   ],
   "source": [
    "# calculate baseline mean absolute error, i.e. predict next value as the last available value from the history\n",
    "actuals = torch.cat([y for x, (y, weight) in iter(val_dataloader)])\n",
    "baseline_predictions = Baseline().predict(val_dataloader)\n",
    "(actuals - baseline_predictions).abs().mean().item()"
   ]
  },
  {
   "cell_type": "code",
   "execution_count": 200,
   "id": "38df7084",
   "metadata": {},
   "outputs": [
    {
     "name": "stderr",
     "output_type": "stream",
     "text": [
      "Global seed set to 42\n",
      "GPU available: False, used: False\n",
      "TPU available: False, using: 0 TPU cores\n",
      "IPU available: False, using: 0 IPUs\n",
      "HPU available: False, using: 0 HPUs\n"
     ]
    },
    {
     "name": "stdout",
     "output_type": "stream",
     "text": [
      "Number of parameters in network: 17.0k\n"
     ]
    }
   ],
   "source": [
    "# configure network and trainer\n",
    "pl.seed_everything(42)\n",
    "trainer = pl.Trainer(\n",
    "    gpus=0,\n",
    "    # clipping gradients is a hyperparameter and important to prevent divergance\n",
    "    # of the gradient for recurrent neural networks\n",
    "    gradient_clip_val=0.1,\n",
    ")\n",
    "\n",
    "\n",
    "tft = TemporalFusionTransformer.from_dataset(\n",
    "    training,\n",
    "    # not meaningful for finding the learning rate but otherwise very important\n",
    "    learning_rate=0.03,\n",
    "    hidden_size=16,  # most important hyperparameter apart from learning rate\n",
    "    # number of attention heads. Set to up to 4 for large datasets\n",
    "    attention_head_size=1,\n",
    "    dropout=0.1,  # between 0.1 and 0.3 are good values\n",
    "    hidden_continuous_size=8,  # set to <= hidden_size\n",
    "    output_size=7,  # 7 quantiles by default\n",
    "    loss=QuantileLoss(),\n",
    "    # reduce learning rate if no improvement in validation loss after x epochs\n",
    "    reduce_on_plateau_patience=4,\n",
    "    optimizer='adam',\n",
    ")\n",
    "print(f\"Number of parameters in network: {tft.size()/1e3:.1f}k\")"
   ]
  },
  {
   "cell_type": "code",
   "execution_count": 201,
   "id": "5a326be7",
   "metadata": {
    "scrolled": false
   },
   "outputs": [
    {
     "data": {
      "application/vnd.jupyter.widget-view+json": {
       "model_id": "da0a5a4f7c3e4073a7e815049f7e9a95",
       "version_major": 2,
       "version_minor": 0
      },
      "text/plain": [
       "Finding best initial lr:   0%|          | 0/100 [00:00<?, ?it/s]"
      ]
     },
     "metadata": {},
     "output_type": "display_data"
    },
    {
     "name": "stderr",
     "output_type": "stream",
     "text": [
      "LR finder stopped early after 97 steps due to diverging loss.\n",
      "Restoring states from the checkpoint path at C:\\Users\\ndmb2\\jupyter_lib\\bitcoin\\.lr_find_bc95b465-c325-4d68-820f-3a2443ea78be.ckpt\n",
      "Restored all states from the checkpoint file at C:\\Users\\ndmb2\\jupyter_lib\\bitcoin\\.lr_find_bc95b465-c325-4d68-820f-3a2443ea78be.ckpt\n"
     ]
    },
    {
     "name": "stdout",
     "output_type": "stream",
     "text": [
      "suggested learning rate: 0.0051286138399136505\n"
     ]
    },
    {
     "data": {
      "image/png": "[encoded data removed]",
      "text/plain": [
       "<Figure size 640x480 with 1 Axes>"
      ]
     },
     "metadata": {},
     "output_type": "display_data"
    }
   ],
   "source": [
    "# find optimal learning rate\n",
    "res = trainer.tuner.lr_find(\n",
    "    tft,\n",
    "    train_dataloaders=train_dataloader,\n",
    "    val_dataloaders=val_dataloader,\n",
    "    max_lr=10.0,\n",
    "    min_lr=1e-6,\n",
    ")\n",
    "\n",
    "print(f\"suggested learning rate: {res.suggestion()}\")\n",
    "fig = res.plot(show=True, suggest=True)\n",
    "fig.show()"
   ]
  },
  {
   "cell_type": "code",
   "execution_count": 202,
   "id": "1441e38d",
   "metadata": {},
   "outputs": [
    {
     "name": "stderr",
     "output_type": "stream",
     "text": [
      "GPU available: False, used: False\n",
      "TPU available: False, using: 0 TPU cores\n",
      "IPU available: False, using: 0 IPUs\n",
      "HPU available: False, using: 0 HPUs\n"
     ]
    },
    {
     "name": "stdout",
     "output_type": "stream",
     "text": [
      "Number of parameters in network: 17.0k\n"
     ]
    }
   ],
   "source": [
    "# configure network and trainer\n",
    "early_stop_callback = EarlyStopping(monitor=\"val_loss\", min_delta=1e-4, patience=10, verbose=False, mode=\"min\")\n",
    "lr_logger = LearningRateMonitor()  # log the learning rate\n",
    "logger = TensorBoardLogger(\"lightning_logs\")  # logging results to a tensorboard\n",
    "\n",
    "trainer = pl.Trainer(\n",
    "    max_epochs=30,\n",
    "    gpus=0,\n",
    "    enable_model_summary=True,\n",
    "    gradient_clip_val=0.1,\n",
    "    limit_train_batches=30,  # coment in for training, running valiation every 30 batches\n",
    "    # fast_dev_run=True,  # comment in to check that networkor dataset has no serious bugs\n",
    "    callbacks=[lr_logger, early_stop_callback],\n",
    "    logger=logger,\n",
    ")\n",
    "\n",
    "\n",
    "tft = TemporalFusionTransformer.from_dataset(\n",
    "    training,\n",
    "    learning_rate=0.01,\n",
    "    hidden_size=16,\n",
    "    attention_head_size=1,\n",
    "    dropout=0.1,\n",
    "    hidden_continuous_size=8,\n",
    "    output_size=7,  # 7 quantiles by default\n",
    "    loss=QuantileLoss(),\n",
    "    log_interval=10,  # uncomment for learning rate finder and otherwise, e.g. to 10 for logging every 10 batches\n",
    "    reduce_on_plateau_patience=4,\n",
    ")\n",
    "print(f\"Number of parameters in network: {tft.size()/1e3:.1f}k\")"
   ]
  },
  {
   "cell_type": "code",
   "execution_count": 203,
   "id": "095438dd",
   "metadata": {
    "scrolled": false
   },
   "outputs": [
    {
     "name": "stderr",
     "output_type": "stream",
     "text": [
      "\n",
      "   | Name                               | Type                            | Params\n",
      "----------------------------------------------------------------------------------------\n",
      "0  | loss                               | QuantileLoss                    | 0     \n",
      "1  | logging_metrics                    | ModuleList                      | 0     \n",
      "2  | input_embeddings                   | MultiEmbedding                  | 0     \n",
      "3  | prescalers                         | ModuleDict                      | 64    \n",
      "4  | static_variable_selection          | VariableSelectionNetwork        | 1.7 K \n",
      "5  | encoder_variable_selection         | VariableSelectionNetwork        | 528   \n",
      "6  | decoder_variable_selection         | VariableSelectionNetwork        | 528   \n",
      "7  | static_context_variable_selection  | GatedResidualNetwork            | 1.1 K \n",
      "8  | static_context_initial_hidden_lstm | GatedResidualNetwork            | 1.1 K \n",
      "9  | static_context_initial_cell_lstm   | GatedResidualNetwork            | 1.1 K \n",
      "10 | static_context_enrichment          | GatedResidualNetwork            | 1.1 K \n",
      "11 | lstm_encoder                       | LSTM                            | 2.2 K \n",
      "12 | lstm_decoder                       | LSTM                            | 2.2 K \n",
      "13 | post_lstm_gate_encoder             | GatedLinearUnit                 | 544   \n",
      "14 | post_lstm_add_norm_encoder         | AddNorm                         | 32    \n",
      "15 | static_enrichment                  | GatedResidualNetwork            | 1.4 K \n",
      "16 | multihead_attn                     | InterpretableMultiHeadAttention | 1.1 K \n",
      "17 | post_attn_gate_norm                | GateAddNorm                     | 576   \n",
      "18 | pos_wise_ff                        | GatedResidualNetwork            | 1.1 K \n",
      "19 | pre_output_gate_norm               | GateAddNorm                     | 576   \n",
      "20 | output_layer                       | Linear                          | 119   \n",
      "----------------------------------------------------------------------------------------\n",
      "17.0 K    Trainable params\n",
      "0         Non-trainable params\n",
      "17.0 K    Total params\n",
      "0.068     Total estimated model params size (MB)\n"
     ]
    },
    {
     "data": {
      "application/vnd.jupyter.widget-view+json": {
       "model_id": "",
       "version_major": 2,
       "version_minor": 0
      },
      "text/plain": [
       "Sanity Checking: 0it [00:00, ?it/s]"
      ]
     },
     "metadata": {},
     "output_type": "display_data"
    },
    {
     "data": {
      "application/vnd.jupyter.widget-view+json": {
       "model_id": "f85febe3376c49cca41193d649140569",
       "version_major": 2,
       "version_minor": 0
      },
      "text/plain": [
       "Training: 0it [00:00, ?it/s]"
      ]
     },
     "metadata": {},
     "output_type": "display_data"
    },
    {
     "data": {
      "application/vnd.jupyter.widget-view+json": {
       "model_id": "",
       "version_major": 2,
       "version_minor": 0
      },
      "text/plain": [
       "Validation: 0it [00:00, ?it/s]"
      ]
     },
     "metadata": {},
     "output_type": "display_data"
    },
    {
     "data": {
      "application/vnd.jupyter.widget-view+json": {
       "model_id": "",
       "version_major": 2,
       "version_minor": 0
      },
      "text/plain": [
       "Validation: 0it [00:00, ?it/s]"
      ]
     },
     "metadata": {},
     "output_type": "display_data"
    },
    {
     "data": {
      "application/vnd.jupyter.widget-view+json": {
       "model_id": "",
       "version_major": 2,
       "version_minor": 0
      },
      "text/plain": [
       "Validation: 0it [00:00, ?it/s]"
      ]
     },
     "metadata": {},
     "output_type": "display_data"
    },
    {
     "data": {
      "application/vnd.jupyter.widget-view+json": {
       "model_id": "",
       "version_major": 2,
       "version_minor": 0
      },
      "text/plain": [
       "Validation: 0it [00:00, ?it/s]"
      ]
     },
     "metadata": {},
     "output_type": "display_data"
    },
    {
     "data": {
      "application/vnd.jupyter.widget-view+json": {
       "model_id": "",
       "version_major": 2,
       "version_minor": 0
      },
      "text/plain": [
       "Validation: 0it [00:00, ?it/s]"
      ]
     },
     "metadata": {},
     "output_type": "display_data"
    },
    {
     "data": {
      "application/vnd.jupyter.widget-view+json": {
       "model_id": "",
       "version_major": 2,
       "version_minor": 0
      },
      "text/plain": [
       "Validation: 0it [00:00, ?it/s]"
      ]
     },
     "metadata": {},
     "output_type": "display_data"
    },
    {
     "data": {
      "application/vnd.jupyter.widget-view+json": {
       "model_id": "",
       "version_major": 2,
       "version_minor": 0
      },
      "text/plain": [
       "Validation: 0it [00:00, ?it/s]"
      ]
     },
     "metadata": {},
     "output_type": "display_data"
    },
    {
     "data": {
      "application/vnd.jupyter.widget-view+json": {
       "model_id": "",
       "version_major": 2,
       "version_minor": 0
      },
      "text/plain": [
       "Validation: 0it [00:00, ?it/s]"
      ]
     },
     "metadata": {},
     "output_type": "display_data"
    },
    {
     "data": {
      "application/vnd.jupyter.widget-view+json": {
       "model_id": "",
       "version_major": 2,
       "version_minor": 0
      },
      "text/plain": [
       "Validation: 0it [00:00, ?it/s]"
      ]
     },
     "metadata": {},
     "output_type": "display_data"
    },
    {
     "data": {
      "application/vnd.jupyter.widget-view+json": {
       "model_id": "",
       "version_major": 2,
       "version_minor": 0
      },
      "text/plain": [
       "Validation: 0it [00:00, ?it/s]"
      ]
     },
     "metadata": {},
     "output_type": "display_data"
    },
    {
     "data": {
      "application/vnd.jupyter.widget-view+json": {
       "model_id": "",
       "version_major": 2,
       "version_minor": 0
      },
      "text/plain": [
       "Validation: 0it [00:00, ?it/s]"
      ]
     },
     "metadata": {},
     "output_type": "display_data"
    },
    {
     "data": {
      "application/vnd.jupyter.widget-view+json": {
       "model_id": "",
       "version_major": 2,
       "version_minor": 0
      },
      "text/plain": [
       "Validation: 0it [00:00, ?it/s]"
      ]
     },
     "metadata": {},
     "output_type": "display_data"
    },
    {
     "data": {
      "application/vnd.jupyter.widget-view+json": {
       "model_id": "",
       "version_major": 2,
       "version_minor": 0
      },
      "text/plain": [
       "Validation: 0it [00:00, ?it/s]"
      ]
     },
     "metadata": {},
     "output_type": "display_data"
    },
    {
     "data": {
      "application/vnd.jupyter.widget-view+json": {
       "model_id": "",
       "version_major": 2,
       "version_minor": 0
      },
      "text/plain": [
       "Validation: 0it [00:00, ?it/s]"
      ]
     },
     "metadata": {},
     "output_type": "display_data"
    },
    {
     "data": {
      "application/vnd.jupyter.widget-view+json": {
       "model_id": "",
       "version_major": 2,
       "version_minor": 0
      },
      "text/plain": [
       "Validation: 0it [00:00, ?it/s]"
      ]
     },
     "metadata": {},
     "output_type": "display_data"
    },
    {
     "data": {
      "application/vnd.jupyter.widget-view+json": {
       "model_id": "",
       "version_major": 2,
       "version_minor": 0
      },
      "text/plain": [
       "Validation: 0it [00:00, ?it/s]"
      ]
     },
     "metadata": {},
     "output_type": "display_data"
    },
    {
     "data": {
      "application/vnd.jupyter.widget-view+json": {
       "model_id": "",
       "version_major": 2,
       "version_minor": 0
      },
      "text/plain": [
       "Validation: 0it [00:00, ?it/s]"
      ]
     },
     "metadata": {},
     "output_type": "display_data"
    },
    {
     "data": {
      "application/vnd.jupyter.widget-view+json": {
       "model_id": "",
       "version_major": 2,
       "version_minor": 0
      },
      "text/plain": [
       "Validation: 0it [00:00, ?it/s]"
      ]
     },
     "metadata": {},
     "output_type": "display_data"
    }
   ],
   "source": [
    "trainer.fit(\n",
    "    tft,\n",
    "    train_dataloaders=train_dataloader,\n",
    "    val_dataloaders=val_dataloader,\n",
    ")"
   ]
  },
  {
   "cell_type": "markdown",
   "id": "192fd5df",
   "metadata": {},
   "source": [
    "# Hyperparameter tuning"
   ]
  },
  {
   "cell_type": "code",
   "execution_count": 169,
   "id": "2f18227e",
   "metadata": {},
   "outputs": [],
   "source": [
    "# import pickle\n",
    "\n",
    "# from pytorch_forecasting.models.temporal_fusion_transformer.tuning import optimize_hyperparameters\n",
    "\n",
    "# # create study\n",
    "# study = optimize_hyperparameters(\n",
    "#     train_dataloader,\n",
    "#     val_dataloader,\n",
    "#     model_path=\"optuna_test\",\n",
    "#     n_trials=200,\n",
    "#     max_epochs=50,\n",
    "#     gradient_clip_val_range=(0.01, 1.0),\n",
    "#     hidden_size_range=(8, 128),\n",
    "#     hidden_continuous_size_range=(8, 128),\n",
    "#     attention_head_size_range=(1, 4),\n",
    "#     learning_rate_range=(0.001, 0.1),\n",
    "#     dropout_range=(0.1, 0.3),\n",
    "#     trainer_kwargs=dict(limit_train_batches=30),\n",
    "#     reduce_on_plateau_patience=4,\n",
    "#     use_learning_rate_finder=False,  # use Optuna to find ideal learning rate or use in-built learning rate finder\n",
    "# )\n",
    "\n",
    "# # save study results - also we can resume tuning at a later point in time\n",
    "# with open(\"test_study.pkl\", \"wb\") as fout:\n",
    "#     pickle.dump(study, fout)\n",
    "\n",
    "# # show best hyperparameters\n",
    "# print(study.best_trial.params)"
   ]
  },
  {
   "cell_type": "markdown",
   "id": "5277cb82",
   "metadata": {},
   "source": [
    "# Evaluate performance"
   ]
  },
  {
   "cell_type": "code",
   "execution_count": 204,
   "id": "d0ac430c",
   "metadata": {},
   "outputs": [],
   "source": [
    "# load the best model according to the validation loss\n",
    "# (given that we use early stopping, this is not necessarily the last epoch)\n",
    "best_model_path = trainer.checkpoint_callback.best_model_path\n",
    "best_tft = TemporalFusionTransformer.load_from_checkpoint(best_model_path)"
   ]
  },
  {
   "cell_type": "code",
   "execution_count": 205,
   "id": "ffb5ec45",
   "metadata": {},
   "outputs": [
    {
     "data": {
      "text/plain": [
       "tensor(46275.3320)"
      ]
     },
     "execution_count": 205,
     "metadata": {},
     "output_type": "execute_result"
    }
   ],
   "source": [
    "# calcualte mean absolute error on validation set\n",
    "actuals = torch.cat([y[0] for x, y in iter(val_dataloader)])\n",
    "predictions = best_tft.predict(val_dataloader)\n",
    "(actuals - predictions).abs().mean()"
   ]
  },
  {
   "cell_type": "code",
   "execution_count": 206,
   "id": "7f00391d",
   "metadata": {},
   "outputs": [],
   "source": [
    "# raw predictions are a dictionary from which all kind of information including quantiles can be extracted\n",
    "raw_predictions, x = best_tft.predict(val_dataloader, mode=\"raw\", return_x=True)"
   ]
  },
  {
   "cell_type": "code",
   "execution_count": 207,
   "id": "d36c8025",
   "metadata": {},
   "outputs": [
    {
     "ename": "IndexError",
     "evalue": "index 1 is out of bounds for dimension 0 with size 1",
     "output_type": "error",
     "traceback": [
      "\u001b[1;31m---------------------------------------------------------------------------\u001b[0m",
      "\u001b[1;31mIndexError\u001b[0m                                Traceback (most recent call last)",
      "\u001b[1;32m~\\AppData\\Local\\Temp\\ipykernel_23756\\2995530739.py\u001b[0m in \u001b[0;36m<module>\u001b[1;34m\u001b[0m\n\u001b[0;32m      1\u001b[0m \u001b[1;32mfor\u001b[0m \u001b[0midx\u001b[0m \u001b[1;32min\u001b[0m \u001b[0mrange\u001b[0m\u001b[1;33m(\u001b[0m\u001b[1;36m10\u001b[0m\u001b[1;33m)\u001b[0m\u001b[1;33m:\u001b[0m  \u001b[1;31m# plot 10 examples\u001b[0m\u001b[1;33m\u001b[0m\u001b[1;33m\u001b[0m\u001b[0m\n\u001b[1;32m----> 2\u001b[1;33m     \u001b[0mbest_tft\u001b[0m\u001b[1;33m.\u001b[0m\u001b[0mplot_prediction\u001b[0m\u001b[1;33m(\u001b[0m\u001b[0mx\u001b[0m\u001b[1;33m,\u001b[0m \u001b[0mraw_predictions\u001b[0m\u001b[1;33m,\u001b[0m \u001b[0midx\u001b[0m\u001b[1;33m=\u001b[0m\u001b[0midx\u001b[0m\u001b[1;33m,\u001b[0m \u001b[0madd_loss_to_title\u001b[0m\u001b[1;33m=\u001b[0m\u001b[1;32mTrue\u001b[0m\u001b[1;33m)\u001b[0m\u001b[1;33m;\u001b[0m\u001b[1;33m\u001b[0m\u001b[1;33m\u001b[0m\u001b[0m\n\u001b[0m",
      "\u001b[1;32m~\\anaconda3\\lib\\site-packages\\pytorch_forecasting\\models\\temporal_fusion_transformer\\__init__.py\u001b[0m in \u001b[0;36mplot_prediction\u001b[1;34m(self, x, out, idx, plot_attention, add_loss_to_title, show_future_observed, ax, **kwargs)\u001b[0m\n\u001b[0;32m    709\u001b[0m \u001b[1;33m\u001b[0m\u001b[0m\n\u001b[0;32m    710\u001b[0m         \u001b[1;31m# plot prediction as normal\u001b[0m\u001b[1;33m\u001b[0m\u001b[1;33m\u001b[0m\u001b[0m\n\u001b[1;32m--> 711\u001b[1;33m         fig = super().plot_prediction(\n\u001b[0m\u001b[0;32m    712\u001b[0m             \u001b[0mx\u001b[0m\u001b[1;33m,\u001b[0m\u001b[1;33m\u001b[0m\u001b[1;33m\u001b[0m\u001b[0m\n\u001b[0;32m    713\u001b[0m             \u001b[0mout\u001b[0m\u001b[1;33m,\u001b[0m\u001b[1;33m\u001b[0m\u001b[1;33m\u001b[0m\u001b[0m\n",
      "\u001b[1;32m~\\anaconda3\\lib\\site-packages\\pytorch_forecasting\\models\\base_model.py\u001b[0m in \u001b[0;36mplot_prediction\u001b[1;34m(self, x, out, idx, add_loss_to_title, show_future_observed, ax, quantiles_kwargs, prediction_kwargs)\u001b[0m\n\u001b[0;32m    778\u001b[0m         ):\n\u001b[0;32m    779\u001b[0m \u001b[1;33m\u001b[0m\u001b[0m\n\u001b[1;32m--> 780\u001b[1;33m             \u001b[0my_all\u001b[0m \u001b[1;33m=\u001b[0m \u001b[0mtorch\u001b[0m\u001b[1;33m.\u001b[0m\u001b[0mcat\u001b[0m\u001b[1;33m(\u001b[0m\u001b[1;33m[\u001b[0m\u001b[0mencoder_target\u001b[0m\u001b[1;33m[\u001b[0m\u001b[0midx\u001b[0m\u001b[1;33m]\u001b[0m\u001b[1;33m,\u001b[0m \u001b[0mdecoder_target\u001b[0m\u001b[1;33m[\u001b[0m\u001b[0midx\u001b[0m\u001b[1;33m]\u001b[0m\u001b[1;33m]\u001b[0m\u001b[1;33m)\u001b[0m\u001b[1;33m\u001b[0m\u001b[1;33m\u001b[0m\u001b[0m\n\u001b[0m\u001b[0;32m    781\u001b[0m             \u001b[0mmax_encoder_length\u001b[0m \u001b[1;33m=\u001b[0m \u001b[0mx\u001b[0m\u001b[1;33m[\u001b[0m\u001b[1;34m\"encoder_lengths\"\u001b[0m\u001b[1;33m]\u001b[0m\u001b[1;33m.\u001b[0m\u001b[0mmax\u001b[0m\u001b[1;33m(\u001b[0m\u001b[1;33m)\u001b[0m\u001b[1;33m\u001b[0m\u001b[1;33m\u001b[0m\u001b[0m\n\u001b[0;32m    782\u001b[0m             y = torch.cat(\n",
      "\u001b[1;31mIndexError\u001b[0m: index 1 is out of bounds for dimension 0 with size 1"
     ]
    },
    {
     "data": {
      "image/png": "[encoded data removed]",
      "text/plain": [
       "<Figure size 640x480 with 2 Axes>"
      ]
     },
     "metadata": {},
     "output_type": "display_data"
    }
   ],
   "source": [
    "# for idx in range(10):  # plot 10 examples\n",
    "#     best_tft.plot_prediction(x, raw_predictions, idx=idx, add_loss_to_title=True);"
   ]
  },
  {
   "cell_type": "code",
   "execution_count": null,
   "id": "83cef824",
   "metadata": {},
   "outputs": [],
   "source": [
    "# predictions, x = best_tft.predict(val_dataloader, return_x=True)\n",
    "# predictions_vs_actuals = best_tft.calculate_prediction_actual_by_variable(x, predictions)\n",
    "# best_tft.plot_prediction_actual_by_variable(predictions_vs_actuals);"
   ]
  },
  {
   "cell_type": "markdown",
   "id": "f09aeec5",
   "metadata": {},
   "source": [
    "# Predict on selected data"
   ]
  },
  {
   "cell_type": "code",
   "execution_count": 208,
   "id": "d4466ca5",
   "metadata": {},
   "outputs": [
    {
     "data": {
      "image/png": "[encoded data removed]",
      "text/plain": [
       "<Figure size 640x480 with 2 Axes>"
      ]
     },
     "metadata": {},
     "output_type": "display_data"
    }
   ],
   "source": [
    "raw_prediction, x = best_tft.predict(\n",
    "    training.filter(lambda x: (x.market == \"KRW-BTC\")),\n",
    "    mode=\"raw\",\n",
    "    return_x=True,\n",
    ")\n",
    "\n",
    "best_tft.plot_prediction(x, raw_prediction, idx=0);"
   ]
  },
  {
   "cell_type": "code",
   "execution_count": null,
   "id": "9d632a9e",
   "metadata": {},
   "outputs": [],
   "source": []
  }
 ],
 "metadata": {
  "kernelspec": {
   "display_name": "Python 3 (ipykernel)",
   "language": "python",
   "name": "python3"
  },
  "language_info": {
   "codemirror_mode": {
    "name": "ipython",
    "version": 3
   },
   "file_extension": ".py",
   "mimetype": "text/x-python",
   "name": "python",
   "nbconvert_exporter": "python",
   "pygments_lexer": "ipython3",
   "version": "3.9.13"
  }
 },
 "nbformat": 4,
 "nbformat_minor": 5
}
