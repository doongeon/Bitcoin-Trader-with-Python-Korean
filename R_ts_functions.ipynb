{
 "cells": [
  {
   "cell_type": "code",
   "execution_count": 7,
   "id": "9046c5bb",
   "metadata": {},
   "outputs": [],
   "source": [
    "import pandas as pd\n",
    "import numpy as np\n",
    "import matplotlib.pyplot as plt"
   ]
  },
  {
   "cell_type": "code",
   "execution_count": 10,
   "id": "4dd4a045",
   "metadata": {},
   "outputs": [],
   "source": [
    "# R에서 사용한 함수 구현\n",
    "\n",
    "############################################################################\n",
    "# plot\n",
    "# 입력 : dataframe ( 시계열 )\n",
    "# 출력 : 시계열 plot\n",
    "############################################################################\n",
    "\n",
    "def plot(Y, add_xlim = 0):\n",
    "    plt.figure(figsize=(14,6))\n",
    "    \n",
    "    plt.plot(Y)\n",
    "    plt.xlim(0, len(Y)+add_xlim)\n",
    "    \n",
    "    plt.title('time series', fontdict={'fontsize' : 30})\n",
    "    plt.ylabel('price', fontdict={'fontsize' : 20})\n",
    "    plt.xlabel('timeflow', fontdict={'fontsize' : 20})\n",
    "\n",
    "    plt.show()\n",
    "\n",
    "    \n",
    "############################################################################\n",
    "# diff\n",
    "# 입력 : [ dataframe, (int)n ]\n",
    "#        dataframe ( 차분할 시계열 )\n",
    "#        n ( 차분 계수 )\n",
    "# 출력 : 차분된 시계열\n",
    "############################################################################\n",
    "    \n",
    "def diff(Y, n = 1):\n",
    "    return Y - Y.shift(n)\n",
    "\n",
    "\n",
    "\n",
    "\n",
    "############################################################################\n",
    "# adf test\n",
    "# h0 시계열은 단위근을 포함한다 ( not stationary )\n",
    "############################################################################\n",
    "\n",
    "from statsmodels.tsa.stattools import adfuller\n",
    "\n",
    "def adf_test(Y):\n",
    "    temp = Y.dropna()\n",
    "    temp = temp.iloc[:,0].values\n",
    "    result = adfuller(temp)\n",
    "    print('ADF Statistic: %f' % result[0])\n",
    "    print('p-value: %f' % result[1])\n",
    "    print('Critical Values:')\n",
    "    for key, value in result[4].items():\n",
    "        print('\\t%s: %.3f' % (key, value))\n",
    "        \n",
    "        \n",
    "        \n",
    "############################################################################\n",
    "# acf plot\n",
    "# 입력 : (time series, lag)\n",
    "#        time series ( 데이터프레임 형식 )\n",
    "#        lag ( int 양의 정수 )\n",
    "# 출력 : acf plot을 반환\n",
    "############################################################################\n",
    "\n",
    "import statsmodels.api as sm\n",
    "\n",
    "def acf(Y, lags = 20):\n",
    "    sm.graphics.tsa.plot_acf(Y, lags = lags)"
   ]
  },
  {
   "cell_type": "code",
   "execution_count": 11,
   "id": "b89f0f3f",
   "metadata": {},
   "outputs": [
    {
     "name": "stderr",
     "output_type": "stream",
     "text": [
      "[NbConvertApp] Converting notebook R_ts_functions.ipynb to script\n",
      "[NbConvertApp] Writing 2004 bytes to R_ts_functions.py\n"
     ]
    }
   ],
   "source": [
    "!jupyter nbconvert --to script R_ts_functions.ipynb"
   ]
  }
 ],
 "metadata": {
  "kernelspec": {
   "display_name": "Python 3 (ipykernel)",
   "language": "python",
   "name": "python3"
  },
  "language_info": {
   "codemirror_mode": {
    "name": "ipython",
    "version": 3
   },
   "file_extension": ".py",
   "mimetype": "text/x-python",
   "name": "python",
   "nbconvert_exporter": "python",
   "pygments_lexer": "ipython3",
   "version": "3.9.13"
  }
 },
 "nbformat": 4,
 "nbformat_minor": 5
}
