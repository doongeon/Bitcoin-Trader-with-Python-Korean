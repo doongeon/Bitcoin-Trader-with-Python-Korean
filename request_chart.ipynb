{
 "cells": [
  {
   "cell_type": "code",
   "execution_count": 4,
   "id": "0503252f",
   "metadata": {},
   "outputs": [],
   "source": [
    "# !pip install pyjwt\n",
    "import jwt\n",
    "import hashlib\n",
    "import requests\n",
    "import uuid\n",
    "from urllib.parse import urlencode, unquote\n",
    "import importlib"
   ]
  },
  {
   "cell_type": "code",
   "execution_count": 3,
   "id": "72785e31",
   "metadata": {},
   "outputs": [
    {
     "data": {
      "text/plain": [
       "<module 'upbit_keys' from 'C:\\\\Users\\\\ndmb2\\\\jupyter_lib\\\\bitcoin\\\\upbit_keys.py'>"
      ]
     },
     "execution_count": 3,
     "metadata": {},
     "output_type": "execute_result"
    }
   ],
   "source": [
    "############################################################################\n",
    "# make your upbit key file(.py) on same directory\n",
    "#\n",
    "# ex) upbit_keys.py\n",
    "# access_key = ' -* your access key here *-'\n",
    "# secret_key = ' -* your secret key here *-'\n",
    "#\n",
    "############################################################################\n",
    "\n",
    "importlib.import_module('upbit_keys')"
   ]
  }
 ],
 "metadata": {
  "kernelspec": {
   "display_name": "Python 3 (ipykernel)",
   "language": "python",
   "name": "python3"
  },
  "language_info": {
   "codemirror_mode": {
    "name": "ipython",
    "version": 3
   },
   "file_extension": ".py",
   "mimetype": "text/x-python",
   "name": "python",
   "nbconvert_exporter": "python",
   "pygments_lexer": "ipython3",
   "version": "3.7.9"
  }
 },
 "nbformat": 4,
 "nbformat_minor": 5
}
