{
 "cells": [
  {
   "cell_type": "code",
   "execution_count": 2,
   "id": "284ff3a6",
   "metadata": {},
   "outputs": [],
   "source": [
    "# !pip install requests\n",
    "# !pip install nbconvert"
   ]
  },
  {
   "cell_type": "code",
   "execution_count": 3,
   "id": "ea3269ba",
   "metadata": {},
   "outputs": [],
   "source": [
    "import requests"
   ]
  },
  {
   "cell_type": "code",
   "execution_count": 4,
   "id": "802e1ed1",
   "metadata": {},
   "outputs": [],
   "source": [
    "# 일단은 비트코인 시장만을 목표로\n",
    "\n",
    "\n",
    "\n",
    "############################################################################\n",
    "# 분캔들\n",
    "# 입력 : 캔들 개수 (최대 200)\n",
    "# 출력 : 캔들 정보에 해당하는 json list \n",
    "#        ex) [ 0 ] ( 현재 ) ~ [ 입력-1 ] ( 과거 )\n",
    "############################################################################\n",
    "\n",
    "def candle_mins(mins, count):\n",
    "    url = \"https://api.upbit.com/v1/candles/minutes/{}?market=KRW-BTC&count={}\".format(mins, count)\n",
    "    \n",
    "    headers = {\"accept\": \"application/json\"}\n",
    "\n",
    "    response = requests.get(url, headers=headers)\n",
    "\n",
    "    return response.json()\n",
    "\n",
    "def candle_min(count):\n",
    "    return candle_mins(1, count)\n",
    "\n",
    "def candle_15mins(count):\n",
    "    return candle_mins(15, count)\n",
    "\n",
    "\n",
    "\n",
    "############################################################################\n",
    "# 현재가 정보\n",
    "# 입력 : .\n",
    "# 출력 : 현재 가격정보에 해당하는 json\n",
    "############################################################################\n",
    "\n",
    "def current_price():\n",
    "    url = \"https://api.upbit.com/v1/ticker/?markets=KRW-BTC\"\n",
    "\n",
    "    headers = {\"accept\": \"application/json\"}\n",
    "\n",
    "    response = requests.get(url, headers=headers)\n",
    "\n",
    "    return response.json()[0]['trade_price']"
   ]
  },
  {
   "cell_type": "code",
   "execution_count": 5,
   "id": "4fd41ed9",
   "metadata": {},
   "outputs": [
    {
     "name": "stderr",
     "output_type": "stream",
     "text": [
      "[NbConvertApp] Converting notebook request_chart.ipynb to script\n",
      "[NbConvertApp] Writing 1313 bytes to request_chart.py\n"
     ]
    }
   ],
   "source": [
    "# !jupyter nbconvert --to script request_chart.ipynb"
   ]
  }
 ],
 "metadata": {
  "kernelspec": {
   "display_name": "Python 3 (ipykernel)",
   "language": "python",
   "name": "python3"
  },
  "language_info": {
   "codemirror_mode": {
    "name": "ipython",
    "version": 3
   },
   "file_extension": ".py",
   "mimetype": "text/x-python",
   "name": "python",
   "nbconvert_exporter": "python",
   "pygments_lexer": "ipython3",
   "version": "3.9.13"
  }
 },
 "nbformat": 4,
 "nbformat_minor": 5
}
