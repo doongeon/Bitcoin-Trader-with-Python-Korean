{
 "cells": [
  {
   "cell_type": "code",
   "execution_count": 5,
   "id": "86e3012d",
   "metadata": {},
   "outputs": [],
   "source": [
    "# !pip install pyjwt"
   ]
  },
  {
   "cell_type": "code",
   "execution_count": 3,
   "id": "00c5d073",
   "metadata": {},
   "outputs": [
    {
     "data": {
      "text/plain": [
       "[{'currency': 'KRW',\n",
       "  'balance': '0.28192474',\n",
       "  'locked': '0',\n",
       "  'avg_buy_price': '0',\n",
       "  'avg_buy_price_modified': True,\n",
       "  'unit_currency': 'KRW'},\n",
       " {'currency': 'XRP',\n",
       "  'balance': '36.79339789',\n",
       "  'locked': '0',\n",
       "  'avg_buy_price': '723',\n",
       "  'avg_buy_price_modified': False,\n",
       "  'unit_currency': 'KRW'}]"
      ]
     },
     "execution_count": 3,
     "metadata": {},
     "output_type": "execute_result"
    }
   ],
   "source": [
    "import jwt\n",
    "import hashlib\n",
    "import os\n",
    "import requests\n",
    "import uuid\n",
    "from urllib.parse import urlencode, unquote\n",
    "\n",
    "access_key = 'ujoSWuCeKCwrVEhqnODUqs1EfEIek0ZuYVjHu85M'\n",
    "secret_key = '3Gff7knFCgXtn5Jw3IBpZQJKlatfQYx4kWYZydIg'\n",
    "server_url = 'https://api.upbit.com'\n",
    "\n",
    "payload = {\n",
    "    'access_key': access_key,\n",
    "    'nonce': str(uuid.uuid4()),\n",
    "}\n",
    "\n",
    "jwt_token = jwt.encode(payload, secret_key)\n",
    "authorization = 'Bearer {}'.format(jwt_token)\n",
    "headers = {\n",
    "  'Authorization': authorization,\n",
    "}\n",
    "\n",
    "res = requests.get(server_url + '/v1/accounts', headers=headers)\n",
    "res.json()"
   ]
  }
 ],
 "metadata": {
  "kernelspec": {
   "display_name": "Python 3 (ipykernel)",
   "language": "python",
   "name": "python3"
  },
  "language_info": {
   "codemirror_mode": {
    "name": "ipython",
    "version": 3
   },
   "file_extension": ".py",
   "mimetype": "text/x-python",
   "name": "python",
   "nbconvert_exporter": "python",
   "pygments_lexer": "ipython3",
   "version": "3.7.9"
  }
 },
 "nbformat": 4,
 "nbformat_minor": 5
}
