{
 "cells": [
  {
   "cell_type": "code",
   "execution_count": 5,
   "id": "27543626",
   "metadata": {},
   "outputs": [],
   "source": [
    "# !pip install pyjwt"
   ]
  },
  {
   "cell_type": "code",
   "execution_count": 2,
   "id": "c9962cd5",
   "metadata": {},
   "outputs": [],
   "source": [
    "import jwt\n",
    "import hashlib\n",
    "import requests\n",
    "import uuid\n",
    "from urllib.parse import urlencode, unquote\n",
    "import importlib"
   ]
  },
  {
   "cell_type": "code",
   "execution_count": 216,
   "id": "c559c674",
   "metadata": {},
   "outputs": [
    {
     "data": {
      "text/plain": [
       "<module 'upbit_keys' from 'C:\\\\Users\\\\ndmb2\\\\jupyter_lib\\\\bitcoin\\\\upbit_keys.py'>"
      ]
     },
     "execution_count": 216,
     "metadata": {},
     "output_type": "execute_result"
    }
   ],
   "source": [
    "############################################################################\n",
    "# make your upbit key file(.py) on same directory\n",
    "#\n",
    "# ex) upbit_keys.py\n",
    "# access_key = ' -* your access key here *-'\n",
    "# secret_key = ' -* your secret key here *-'\n",
    "#\n",
    "############################################################################\n",
    "importlib.import_module('upbit_keys')"
   ]
  },
  {
   "cell_type": "code",
   "execution_count": 217,
   "id": "3909a319",
   "metadata": {},
   "outputs": [],
   "source": [
    "############################################################################\n",
    "# 업비트 자산조회\n",
    "# 입력 : 업비트 access key, secret key\n",
    "# 출력 : 나의 자산내용에 해당하는 json\n",
    "############################################################################\n",
    "\n",
    "def asset_check():\n",
    "    payload = {\n",
    "        'access_key': access_key,\n",
    "        'nonce': str(uuid.uuid4()),\n",
    "    }\n",
    "\n",
    "    jwt_token = jwt.encode(payload, secret_key)\n",
    "    authorization = 'Bearer {}'.format(jwt_token)\n",
    "    headers = {\n",
    "      'Authorization': authorization,\n",
    "    }\n",
    "\n",
    "    res = requests.get(server_url + '/v1/accounts', headers=headers)\n",
    "    return res.json()"
   ]
  },
  {
   "cell_type": "code",
   "execution_count": 78,
   "id": "be7fd8c9",
   "metadata": {},
   "outputs": [],
   "source": [
    "############################################################################\n",
    "# 주문 가능정보 조회\n",
    "# 입력 : (str) 코인 티커\n",
    "#        ex) 'BTC'\n",
    "# 출력 : 입력한 코인 시장 정보 json\n",
    "############################################################################\n",
    "def market_price(market):\n",
    "    params = {\n",
    "      'market': 'KRW-' + market\n",
    "    }\n",
    "    query_string = unquote(urlencode(params, doseq=True)).encode(\"utf-8\")\n",
    "\n",
    "    m = hashlib.sha512()\n",
    "    m.update(query_string)\n",
    "    query_hash = m.hexdigest()\n",
    "\n",
    "    payload = {\n",
    "        'access_key': access_key,\n",
    "        'nonce': str(uuid.uuid4()),\n",
    "        'query_hash': query_hash,\n",
    "        'query_hash_alg': 'SHA512',\n",
    "    }\n",
    "\n",
    "    jwt_token = jwt.encode(payload, secret_key)\n",
    "    authorization = 'Bearer {}'.format(jwt_token)\n",
    "    headers = {\n",
    "      'Authorization': authorization,\n",
    "    }\n",
    "\n",
    "    res = requests.get(server_url + '/v1/orders/chance', params=params, headers=headers)\n",
    "    return res.json()"
   ]
  },
  {
   "cell_type": "code",
   "execution_count": 120,
   "id": "b61a779b",
   "metadata": {},
   "outputs": [],
   "source": [
    "############################################################################\n",
    "# 개별 주문 조회\n",
    "# 입력 : 주문 uuid\n",
    "#        ex) '00000000-0000-0000-0000-000000000000'\n",
    "# 출력 : 입력한 주문에 대한 내용 json\n",
    "############################################################################\n",
    "def order_check(order_id):\n",
    "    params = {\n",
    "      'uuid': order_id\n",
    "    }\n",
    "    query_string = unquote(urlencode(params, doseq=True)).encode(\"utf-8\")\n",
    "\n",
    "    m = hashlib.sha512()\n",
    "    m.update(query_string)\n",
    "    query_hash = m.hexdigest()\n",
    "\n",
    "    payload = {\n",
    "        'access_key': access_key,\n",
    "        'nonce': str(uuid.uuid4()),\n",
    "        'query_hash': query_hash,\n",
    "        'query_hash_alg': 'SHA512',\n",
    "    }\n",
    "\n",
    "    jwt_token = jwt.encode(payload, secret_key)\n",
    "    authorization = 'Bearer {}'.format(jwt_token)\n",
    "    headers = {\n",
    "      'Authorization': authorization,\n",
    "    }\n",
    "\n",
    "    res = requests.get(server_url + '/v1/order', params=params, headers=headers)\n",
    "    return res.json()"
   ]
  },
  {
   "cell_type": "code",
   "execution_count": 53,
   "id": "aa16188e",
   "metadata": {},
   "outputs": [],
   "source": [
    "############################################################################\n",
    "# 주문 취소 접수\n",
    "# 미완\n",
    "#\n",
    "############################################################################\n",
    "def cancel_order():\n",
    "    params = {\n",
    "      'uuid': '00000000-0000-0000-0000-000000000000'\n",
    "    }\n",
    "    query_string = unquote(urlencode(params, doseq=True)).encode(\"utf-8\")\n",
    "\n",
    "    m = hashlib.sha512()\n",
    "    m.update(query_string)\n",
    "    query_hash = m.hexdigest()\n",
    "\n",
    "    payload = {\n",
    "        'access_key': access_key,\n",
    "        'nonce': str(uuid.uuid4()),\n",
    "        'query_hash': query_hash,\n",
    "        'query_hash_alg': 'SHA512',\n",
    "    }\n",
    "\n",
    "    jwt_token = jwt.encode(payload, secret_key)\n",
    "    authorization = 'Bearer {}'.format(jwt_token)\n",
    "    headers = {\n",
    "      'Authorization': authorization,\n",
    "    }\n",
    "\n",
    "    res = requests.delete(server_url + '/v1/order', params=params, headers=headers)\n",
    "    return res.json()"
   ]
  },
  {
   "cell_type": "code",
   "execution_count": 220,
   "id": "f915f931",
   "metadata": {},
   "outputs": [],
   "source": [
    "params = {\n",
    "  'market': 'KRW-BTC',\n",
    "    # [side option] ( bid : 매수, ask : 매도 )\n",
    "  'side': 1, \n",
    "    # [ord_type] ( price : 시장가 매수, market : 시장가 매도 )\n",
    "  'ord_type': 2,\n",
    "    # [pirce] ( 지정가, 시장가 매도시 생략)\n",
    "  'price': 3,\n",
    "    # [volume] ( 지정가, 시장가 매도시 생략 )\n",
    "  'volume' : 4\n",
    "}"
   ]
  },
  {
   "cell_type": "code",
   "execution_count": 222,
   "id": "6e51cd1e",
   "metadata": {},
   "outputs": [],
   "source": [
    "params['5'] = 5"
   ]
  },
  {
   "cell_type": "code",
   "execution_count": 223,
   "id": "9fcec183",
   "metadata": {},
   "outputs": [
    {
     "data": {
      "text/plain": [
       "{'market': 'KRW-BTC',\n",
       " 'side': 1,\n",
       " 'ord_type': 2,\n",
       " 'price': 3,\n",
       " 'volume': 4,\n",
       " '5': 5}"
      ]
     },
     "execution_count": 223,
     "metadata": {},
     "output_type": "execute_result"
    }
   ],
   "source": [
    "params"
   ]
  },
  {
   "cell_type": "code",
   "execution_count": 224,
   "id": "f3ef94fe",
   "metadata": {},
   "outputs": [],
   "source": [
    "############################################################################\n",
    "# 업비트 주문하기\n",
    "# 입력 : \n",
    "# 출력 : 매도, 매수 주문내용에 해당하는 json\n",
    "############################################################################\n",
    "def coin_order(side_option, price = 'NULL', volume = 'NULL'):\n",
    "    params = {\n",
    "      'market': 'KRW-BTC',\n",
    "    }\n",
    "    \n",
    "    # [side_option] ( 0 : 매수 , 1 : 매도 )\n",
    "    if side_option == 0: # 매수\n",
    "        params['side'] = 'bid'\n",
    "        params['ord_type'] = 'price'\n",
    "        params['price'] = price\n",
    "    elif side_option == 1: # 매도\n",
    "        params['side'] = 'ask'\n",
    "        params['ord_type'] = 'market'\n",
    "        params['volume'] = volume\n",
    "    else:\n",
    "        print('error form function \"coin_order\" wrong input in parameter \"side_option\"')\n",
    "        return -1;\n",
    "        \n",
    "    query_string = unquote(urlencode(params, doseq=True)).encode(\"utf-8\")\n",
    "\n",
    "    m = hashlib.sha512()\n",
    "    m.update(query_string)\n",
    "    query_hash = m.hexdigest()\n",
    "\n",
    "    payload = {\n",
    "        'access_key': access_key,\n",
    "        'nonce': str(uuid.uuid4()),\n",
    "        'query_hash': query_hash,\n",
    "        'query_hash_alg': 'SHA512',\n",
    "    }\n",
    "\n",
    "    jwt_token = jwt.encode(payload, secret_key)\n",
    "    authorization = 'Bearer {}'.format(jwt_token)\n",
    "    headers = {\n",
    "      'Authorization': authorization,\n",
    "    }\n",
    "\n",
    "    res = requests.post(server_url + '/v1/orders', json=params, headers=headers)\n",
    "    return res.json()"
   ]
  },
  {
   "cell_type": "code",
   "execution_count": 237,
   "id": "1533675e",
   "metadata": {},
   "outputs": [],
   "source": [
    "############################################################################\n",
    "# 시장가 매수\n",
    "# 입력 : int 매수금액\n",
    "# 출력 : 실패시 -1 반환\n",
    "#        성공시 주문내역에 해당하는 json 반환\n",
    "############################################################################\n",
    "\n",
    "def ord_bid_price(price):\n",
    "    if price < (int)(market_price('BTC')['market']['bid']['min_total']):\n",
    "        print('최소 주문금액은 {} 입니다.'.format(market_price('BTC')['market']['bid']['min_total']))\n",
    "        return -1;\n",
    "    else:\n",
    "        return coin_order(side_option = 0, price = price)"
   ]
  },
  {
   "cell_type": "code",
   "execution_count": 231,
   "id": "d31a0ab4",
   "metadata": {},
   "outputs": [],
   "source": [
    "############################################################################\n",
    "# 시장가 매도\n",
    "# 입력 : 매도 물량\n",
    "#        default : 0 ( 전체 물량 매도 )\n",
    "# 출력 : 잘못된 입력이 들어왔을떄 -1 반환\n",
    "#        주문내역에 해당하는 json 반환\n",
    "############################################################################\n",
    "\n",
    "def ord_ask_market(volume = 0):\n",
    "    if(volume == 0): \n",
    "        return coin_order(side_option = 1, volume = market_price('BTC')['ask_account']['balance'])\n",
    "    elif(volume > 0):\n",
    "        return coin_order(side_option = 1, volume = volume)\n",
    "    else:\n",
    "        return -1"
   ]
  },
  {
   "cell_type": "code",
   "execution_count": 128,
   "id": "dec1b114",
   "metadata": {},
   "outputs": [],
   "source": [
    "############################################################################\n",
    "# 전체 주문 조회\n",
    "# 입력 : .\n",
    "# 출력 : 전채 주문내역에 해당하는 json list \n",
    "#        ex) [0]( 최근 ) ~ [...]( 먼 과거 )\n",
    "############################################################################\n",
    "\n",
    "def orderList_check():\n",
    "    params = {\n",
    "        # [states option] ( 조회할 주문 상태 ) \n",
    "      'states[]': ['done', 'cancel']\n",
    "    }\n",
    "    query_string = unquote(urlencode(params, doseq=True)).encode(\"utf-8\")\n",
    "\n",
    "    m = hashlib.sha512()\n",
    "    m.update(query_string)\n",
    "    query_hash = m.hexdigest()\n",
    "\n",
    "    payload = {\n",
    "        'access_key': access_key,\n",
    "        'nonce': str(uuid.uuid4()),\n",
    "        'query_hash': query_hash,\n",
    "        'query_hash_alg': 'SHA512',\n",
    "    }\n",
    "\n",
    "    jwt_token = jwt.encode(payload, secret_key)\n",
    "    authorization = 'Bearer {}'.format(jwt_token)\n",
    "    headers = {\n",
    "      'Authorization': authorization,\n",
    "    }\n",
    "\n",
    "    res = requests.get(server_url + '/v1/orders', params=params, headers=headers)\n",
    "    return res.json()"
   ]
  },
  {
   "cell_type": "code",
   "execution_count": 152,
   "id": "9b9af714",
   "metadata": {},
   "outputs": [],
   "source": [
    "############################################################################\n",
    "# 마지막 매수 주문 가져오기\n",
    "# 입력 : .\n",
    "# 출력 : 마지막 매수주문에 해당하는 json\n",
    "############################################################################\n",
    "\n",
    "def get_last_bid():\n",
    "    result = ''\n",
    "    for i, order in enumerate(orderList_check()):\n",
    "        if (order['side'] == 'bid'):\n",
    "            result = orderList_check()[i]\n",
    "            break;\n",
    "    return result"
   ]
  },
  {
   "cell_type": "code",
   "execution_count": 139,
   "id": "7c2096c8",
   "metadata": {},
   "outputs": [],
   "source": [
    "############################################################################\n",
    "# 마지막 매도 주문 가져오기\n",
    "# 입력 : .\n",
    "# 출력 : 마지막 매도주문에 해당하는 json\n",
    "############################################################################\n",
    "\n",
    "def get_last_ask():\n",
    "    result = ''\n",
    "    for i, order in enumerate(orderList_check()):\n",
    "        if (order['side'] == 'ask'):\n",
    "            result = orderList_check()[i]\n",
    "            break;\n",
    "    return result"
   ]
  }
 ],
 "metadata": {
  "kernelspec": {
   "display_name": "Python 3 (ipykernel)",
   "language": "python",
   "name": "python3"
  },
  "language_info": {
   "codemirror_mode": {
    "name": "ipython",
    "version": 3
   },
   "file_extension": ".py",
   "mimetype": "text/x-python",
   "name": "python",
   "nbconvert_exporter": "python",
   "pygments_lexer": "ipython3",
   "version": "3.7.9"
  }
 },
 "nbformat": 4,
 "nbformat_minor": 5
}
